{
 "cells": [
  {
   "cell_type": "code",
   "execution_count": 10,
   "metadata": {},
   "outputs": [],
   "source": [
    "import pandas as pd"
   ]
  },
  {
   "cell_type": "code",
   "execution_count": null,
   "metadata": {},
   "outputs": [],
   "source": [
    "# abjad = \"ABCDEFGHIJKLMNOPQRSTUVWXYZ\"\n",
    "# dc = \"_dictionary\"\n",
    "# dfr = \"_df\"\n",
    "\n",
    "# #f = pd.read_excel(\"A-G.xlsx\", )\n",
    "# writer = pd.ExcelWriter('data/kata_typo.xlsx', engine='xlsxwriter')\n",
    "# for key, huruf in enumerate(abjad):\n",
    "#     #print(huruf, key)\n",
    "#     if key<7:\n",
    "#         f = pd.read_excel(\"data/A-G.xlsx\", sheet_name = huruf)\n",
    "#         f_1 = f['kata'].tolist()\n",
    "#         f_2 = f['kode'].fillna(\"\").tolist()\n",
    "#         vars()[huruf+dc] = {\"kata\":f_1, \"ganti\":f_2}\n",
    "#         vars()[huruf+dfr] = pd.DataFrame.from_dict(vars()[huruf+dc])\n",
    "#         vars()[huruf+dfr].to_excel(writer, sheet_name=huruf)\n",
    "#         print(huruf+dc)\n",
    "#     else:\n",
    "#         f = pd.read_excel(\"data/H-Z.xlsx\", sheet_name = huruf)\n",
    "#         f_1 = f['kata'].tolist()\n",
    "#         f_2 = f['kode'].fillna(\"\").tolist()\n",
    "#         vars()[huruf+dc] = {\"kata\":f_1, \"ganti\":f_2}\n",
    "#         vars()[huruf+dfr] = pd.DataFrame.from_dict(vars()[huruf+dc])\n",
    "#         vars()[huruf+dfr].to_excel(writer, sheet_name=huruf)\n",
    "#         print(huruf+dc)\n",
    "# #writer.save()"
   ]
  },
  {
   "cell_type": "code",
   "execution_count": 12,
   "metadata": {},
   "outputs": [],
   "source": [
    "def reduksi_huruf(kata):\n",
    "#kata = 'siiiiiiapaaaa'\n",
    "    nkata  = list()\n",
    "    for i,k in enumerate(kata):\n",
    "        if i>2:\n",
    "            if kata[i]== kata[i-1] and kata[i] == kata[i-2]:\n",
    "                continue\n",
    "            else:\n",
    "                nkata.append(k)\n",
    "        else:\n",
    "            nkata.append(k)\n",
    "    return \"\".join(nkata)"
   ]
  },
  {
   "cell_type": "code",
   "execution_count": 5,
   "metadata": {},
   "outputs": [
    {
     "data": {
      "text/plain": [
       "'maalass'"
      ]
     },
     "execution_count": 5,
     "metadata": {},
     "output_type": "execute_result"
    }
   ],
   "source": [
    "reduksi_huruf(\"maaalasssss\")"
   ]
  },
  {
   "cell_type": "code",
   "execution_count": 11,
   "metadata": {},
   "outputs": [
    {
     "name": "stdout",
     "output_type": "stream",
     "text": [
      "29782\n",
      "29782\n"
     ]
    }
   ],
   "source": [
    "\n",
    "def load_data():\n",
    "    abjad = \"ZABCDEFGHIJKLMNOPQRSTUVWXYZ\"\n",
    "    dc = \"_dictionary\"\n",
    "    dfr = \"_df\"\n",
    "\n",
    "    #f = pd.read_excel(\"A-G.xlsx\", )\n",
    "    kata = []\n",
    "    replace = []\n",
    "    for key, huruf in enumerate(abjad):\n",
    "        #print(huruf, key)\n",
    "        f = pd.read_excel(\"data/kata_typo.xlsx\", sheet_name = huruf)\n",
    "        f_1 = f['kata'].tolist()\n",
    "        f_2 = f['ganti'].tolist()\n",
    "        kata +=f_1\n",
    "        replace+=f_2\n",
    "        \n",
    "    kata_ = list()\n",
    "    for i in kata:\n",
    "        try:\n",
    "            kata_.append(reduksi_huruf(i))\n",
    "        except:\n",
    "            kata_.append(i)\n",
    "        \n",
    "    kata_reduksi = list()\n",
    "    replace_reduksi = list()\n",
    "    for ix, i in enumerate(kata_):\n",
    "        if i not in kata_reduksi:\n",
    "            kata_reduksi.append(i)\n",
    "            replace_reduksi.append(replace[ix])\n",
    "\n",
    "    print(len(kata_reduksi))\n",
    "    print(len(replace_reduksi))\n",
    "    with open('data/_kata_.txt', 'w') as f:\n",
    "        for item in kata_reduksi:\n",
    "            f.write(\"%s\\n\" % item)\n",
    "    with open('data/_replace_.txt', 'w') as f:\n",
    "        for item in replace_reduksi:\n",
    "            f.write(\"%s\\n\" % item)\n",
    "load_data()"
   ]
  },
  {
   "cell_type": "code",
   "execution_count": null,
   "metadata": {},
   "outputs": [],
   "source": []
  },
  {
   "cell_type": "markdown",
   "metadata": {},
   "source": [
    "# Load Data"
   ]
  },
  {
   "cell_type": "code",
   "execution_count": 10,
   "metadata": {},
   "outputs": [],
   "source": [
    "# abjad = \"ZABCDEFGHIJKLMNOPQRSTUVWXY\"\n",
    "# dc = \"_dictionary\"\n",
    "# dfr = \"_df\"\n",
    "\n",
    "# #f = pd.read_excel(\"A-G.xlsx\", )\n",
    "# kata = []\n",
    "# replace = []\n",
    "# for key, huruf in enumerate(abjad):\n",
    "#     #print(huruf, key)\n",
    "#     f = pd.read_excel(\"data/kata_typo.xlsx\", sheet_name = huruf)\n",
    "#     f_1 = f['kata'].tolist()\n",
    "#     f_2 = f['ganti'].tolist()\n",
    "#     kata +=f_1\n",
    "#     replace+=f_2"
   ]
  },
  {
   "cell_type": "code",
   "execution_count": null,
   "metadata": {},
   "outputs": [],
   "source": []
  },
  {
   "cell_type": "code",
   "execution_count": 7,
   "metadata": {},
   "outputs": [],
   "source": [
    "# alpa = 'abcdefghijklmnopqrstuvwxyz'\n",
    "# for i in alpa:\n",
    "#     vars()[i+\"_\"]=list()\n",
    "#     vars()[i+\"_g\"]=list()\n",
    "\n",
    "# #f=open('data/kata_kbbi_new.txt')\n",
    "# #f=f.read()\n",
    "# #f=f.split()\n",
    "# for i,kt in enumerate(kata):\n",
    "#     print(i)\n",
    "#     if kt[0].isalpha():\n",
    "#         kt = kt.lower()\n",
    "#     print(kt[0])\n",
    "#     vars()[kt[0]+\"_\"].append(gt)\n",
    "#     #vars()[gt[0]+\"_g\"].append(replace[id])\n",
    "#     #print(i)\n",
    "    \n",
    "# #for i in alpa:\n",
    "#     #with open('data/kata/'+i+'.txt', 'w') as file:\n",
    "#         #for item in vars()[i+'_']:\n",
    "#             #file.write(\"%s\\n\" % item)"
   ]
  },
  {
   "cell_type": "code",
   "execution_count": 34,
   "metadata": {},
   "outputs": [
    {
     "data": {
      "text/plain": [
       "nan"
      ]
     },
     "execution_count": 34,
     "metadata": {},
     "output_type": "execute_result"
    }
   ],
   "source": [
    "# kata[4067]"
   ]
  },
  {
   "cell_type": "code",
   "execution_count": null,
   "metadata": {},
   "outputs": [],
   "source": []
  },
  {
   "cell_type": "code",
   "execution_count": null,
   "metadata": {},
   "outputs": [],
   "source": []
  },
  {
   "cell_type": "code",
   "execution_count": null,
   "metadata": {},
   "outputs": [],
   "source": []
  },
  {
   "cell_type": "code",
   "execution_count": 243,
   "metadata": {},
   "outputs": [],
   "source": []
  },
  {
   "cell_type": "code",
   "execution_count": 2,
   "metadata": {},
   "outputs": [
    {
     "name": "stdout",
     "output_type": "stream",
     "text": [
      "7005\n",
      "7005\n"
     ]
    }
   ],
   "source": [
    "# from jarowinkler import similarity as sim\n",
    "\n",
    "# def getData(alamat):\n",
    "#     lineList = list()\n",
    "#     with open(alamat) as f:\n",
    "#         for line in f:\n",
    "#             lineList.append(line.rstrip('\\n'))\n",
    "#     return lineList\n",
    "\n",
    "# def just_get_text(kata):\n",
    "#     kata_n = list()\n",
    "#     for i in kata:\n",
    "#         if i.isalpha():\n",
    "#             kata_n.append(i)\n",
    "#     return ''.join(kata_n)\n",
    "\n",
    "# def distinc_huruf(kata, jm=1):\n",
    "#     kata = just_get_text(kata)\n",
    "#     if len(just_get_text(kata))==0:\n",
    "#         return kata\n",
    "#     n_kata = list()\n",
    "#     if kata[0].isalpha():\n",
    "#         pass\n",
    "#     else:\n",
    "#         if kata[1].isalpha() and kata[1] not in n_kata:\n",
    "#             n_kata.append(kata[1])\n",
    "#     if kata[0]=='a' or kata[0]=='m' or kata[0]=='p'or kata[0]=='b':#or kata[1]=='a' or kata[1]=='m' or kata[1]=='p':\n",
    "#         if kata[0].isalpha():\n",
    "#             n_kata.append(kata[0])\n",
    "#         if kata[1] not in n_kata and kata[1].isalpha():\n",
    "#             n_kata.append(kata[1])\n",
    "#     for hr in kata:\n",
    "#         if hr not in n_kata and hr != 'a' and hr != 'm' and hr != 'p'and hr != 'b':\n",
    "#             if hr.isalpha():\n",
    "#                 n_kata.append(hr)\n",
    "#     if len(n_kata)>jm:\n",
    "#         return \"\".join(n_kata[:jm])\n",
    "#     else:\n",
    "#         return \"\".join(n_kata)\n",
    "#     #if jm == 1:\n",
    "#         #return \"\".join(n_kata[0])\n",
    "#     #elif jm==2:\n",
    "#         #return \"\".join(n_kata[:2])\n",
    "# def new_corpus(kata, jm):\n",
    "\n",
    "#     corpus = list()\n",
    "#     #if len(kata)==0:\n",
    "#         #return []\n",
    "#     for i in distinc_huruf(kata, jm=jm):\n",
    "#         #print(i)\n",
    "#         f=open('data/kata/'+i+'.txt')\n",
    "#         f=f.read()\n",
    "#         f=f.split()\n",
    "#         corpus+=f\n",
    "#     return corpus\n",
    "\n",
    "\n",
    "# kata_ = getData('data/_kata_.txt')\n",
    "# ganti_ = getData('data/_replace_.txt')\n",
    "\n",
    "# print(len(ganti_))\n",
    "# print(len(kata_))\n",
    "\n",
    "# if len(ganti_)!= len(kata_):\n",
    "#     load_data()\n",
    "#     print(\"Load data ulang\")\n",
    "#     f=open('data/_kata_.txt')\n",
    "#     f=f.read()\n",
    "#     kata_ = f.split()\n",
    "\n",
    "#     f=open('data/_replace_.txt')\n",
    "#     f=f.read()\n",
    "#     ganti_ = f.split()\n",
    "#     print(\"Load data berhasil\")\n",
    "    \n",
    "# def simJaro(kata1,kata2):\n",
    "#     return sim.get_jaro_distance(kata1, kata2, winkler=True, scaling=0.01)\n",
    "\n",
    "# def norm_typo(komentar):\n",
    "#     if type(komentar)!=list:\n",
    "#         komentar_split = komentar.split()\n",
    "#     for indx, kt in enumerate(komentar_split):\n",
    "#         cek = True\n",
    "#         if kt in kata_:\n",
    "#             komentar_split[indx]= \"\" if ganti_[kata_.index(kt)] == 'nan' else ganti_[kata_.index(kt)]\n",
    "#             print(\"<<<ada>>>\")\n",
    "#             #continue\n",
    "#         else:\n",
    "#             list_kemiripan = []\n",
    "#             for ix, sl in enumerate(kata_):\n",
    "#                 list_kemiripan.append(simJaro(kt, sl)) \n",
    "#                 if simJaro(kt, sl) >= .96:\n",
    "#                     komentar_split[indx]=\"\" if ganti_[ix] == 'nan' else ganti_[ix]\n",
    "#                     print(\"similarity-> \"+kt+\"|\"+sl+\" ->\", simJaro(kt, sl))\n",
    "#                     cek = False\n",
    "#                     break\n",
    "#             if max(list_kemiripan)>=.88 and cek== True:\n",
    "#                 #print(\"similarity\",kt, str(max(list_kemiripan)))\n",
    "#                 print(\"similarity =>\",kt,\"|\",kata_[list_kemiripan.index(max(list_kemiripan))],\"=>\", str(max(list_kemiripan)))\n",
    "#                 komentar_split[indx]= \"\" if ganti_[list_kemiripan.index(max(list_kemiripan))] == 'nan' else ganti_[list_kemiripan.index(max(list_kemiripan))] #'Yes' if fruit == 'Apple' else 'No'\n",
    "#             else:\n",
    "#                 if cek == True:\n",
    "#                     print(\"similarity =>\",kt,\"|\",kata_[list_kemiripan.index(max(list_kemiripan))],\"=>\", str(max(list_kemiripan)))\n",
    "#     return \" \".join(komentar_split)"
   ]
  },
  {
   "cell_type": "code",
   "execution_count": 247,
   "metadata": {},
   "outputs": [
    {
     "name": "stdout",
     "output_type": "stream",
     "text": [
      "similarity-> aakuuuuu|akuuuuu -> 0.96\n",
      "similarity-> mencintaiimu|mencintaiimu  -> 0.98\n",
      "similarity => sepenuh | pesen => 0.84\n",
      "similarity => hatiku | atiku => 0.94\n"
     ]
    },
    {
     "data": {
      "text/plain": [
       "'aku mencintaimu sepenuh hati'"
      ]
     },
     "execution_count": 247,
     "metadata": {},
     "output_type": "execute_result"
    }
   ],
   "source": [
    "# norm_jaro(\"aakuuuuu mencintaiimu sepenuh hatiku\")"
   ]
  },
  {
   "cell_type": "code",
   "execution_count": null,
   "metadata": {},
   "outputs": [],
   "source": []
  },
  {
   "cell_type": "code",
   "execution_count": null,
   "metadata": {},
   "outputs": [],
   "source": []
  },
  {
   "cell_type": "code",
   "execution_count": null,
   "metadata": {},
   "outputs": [],
   "source": [
    "\n"
   ]
  }
 ],
 "metadata": {
  "kernelspec": {
   "display_name": "Python 3",
   "language": "python",
   "name": "python3"
  },
  "language_info": {
   "codemirror_mode": {
    "name": "ipython",
    "version": 3
   },
   "file_extension": ".py",
   "mimetype": "text/x-python",
   "name": "python",
   "nbconvert_exporter": "python",
   "pygments_lexer": "ipython3",
   "version": "3.6.8"
  }
 },
 "nbformat": 4,
 "nbformat_minor": 2
}
