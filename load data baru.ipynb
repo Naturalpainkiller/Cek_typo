{
 "cells": [
  {
   "cell_type": "code",
   "execution_count": 1,
   "metadata": {},
   "outputs": [],
   "source": [
    "import pandas as pd"
   ]
  },
  {
   "cell_type": "code",
   "execution_count": 2,
   "metadata": {},
   "outputs": [],
   "source": [
    "def reduksi_huruf(kata):\n",
    "#kata = 'siiiiiiapaaaa'\n",
    "    nkata  = list()\n",
    "    for i,k in enumerate(kata):\n",
    "        if i>2:\n",
    "            if kata[i]== kata[i-1] and kata[i] == kata[i-2]:\n",
    "                continue\n",
    "            else:\n",
    "                nkata.append(k)\n",
    "        else:\n",
    "            nkata.append(k)\n",
    "    return \"\".join(nkata)"
   ]
  },
  {
   "cell_type": "code",
   "execution_count": 3,
   "metadata": {},
   "outputs": [
    {
     "data": {
      "text/plain": [
       "'maalass'"
      ]
     },
     "execution_count": 3,
     "metadata": {},
     "output_type": "execute_result"
    }
   ],
   "source": [
    "reduksi_huruf(\"maaalasssss\")"
   ]
  },
  {
   "cell_type": "code",
   "execution_count": 4,
   "metadata": {},
   "outputs": [
    {
     "name": "stdout",
     "output_type": "stream",
     "text": [
      "ABCDEFGHIJKLMNOPQRSTUVWXYZ38623\n",
      "38623\n"
     ]
    }
   ],
   "source": [
    "def load_data():\n",
    "    abjad = \"ABCDEFGHIJKLMNOPQRSTUVWXYZ\"\n",
    "    dc = \"_dictionary\"\n",
    "    dfr = \"_df\"\n",
    "\n",
    "    #f = pd.read_excel(\"A-G.xlsx\", )\n",
    "    kata = []\n",
    "    replace = []\n",
    "    for key, huruf in enumerate(abjad):\n",
    "        print(huruf, end=\"\")\n",
    "        #print(huruf, key)\n",
    "        f = pd.read_excel(\"data/kata_typo_.xlsx\", sheet_name = huruf)\n",
    "        f_1 = f['kata'].tolist()\n",
    "        f_2 = f['ganti'].tolist()\n",
    "        kata +=f_1\n",
    "        replace+=f_2\n",
    "        \n",
    "    kata_ = list()\n",
    "    for i in kata:\n",
    "        try:\n",
    "            kata_.append(reduksi_huruf(i))\n",
    "        except:\n",
    "            kata_.append(i)\n",
    "        \n",
    "    kata_reduksi = list()\n",
    "    replace_reduksi = list()\n",
    "    for ix, i in enumerate(kata_):\n",
    "        if i not in kata_reduksi:\n",
    "            kata_reduksi.append(i)\n",
    "            replace_reduksi.append(replace[ix])\n",
    "\n",
    "    print(len(kata_reduksi))\n",
    "    print(len(replace_reduksi))\n",
    "    with open('data/_kata_.txt', 'w') as f:\n",
    "        for item in kata_reduksi:\n",
    "            f.write(\"%s\\n\" % item)\n",
    "    with open('data/_replace_.txt', 'w') as f:\n",
    "        for item in replace_reduksi:\n",
    "            f.write(\"%s\\n\" % item)\n",
    "load_data()"
   ]
  },
  {
   "cell_type": "code",
   "execution_count": null,
   "metadata": {},
   "outputs": [],
   "source": [
    "38570"
   ]
  },
  {
   "cell_type": "code",
   "execution_count": 6,
   "metadata": {},
   "outputs": [],
   "source": [
    "import json"
   ]
  },
  {
   "cell_type": "markdown",
   "metadata": {},
   "source": [
    "# Load Data"
   ]
  },
  {
   "cell_type": "code",
   "execution_count": 20,
   "metadata": {},
   "outputs": [
    {
     "name": "stdout",
     "output_type": "stream",
     "text": [
      "38623\n"
     ]
    }
   ],
   "source": [
    "from Modul import read_text as rt\n",
    "\n",
    "def removeS(kata):\n",
    "    n_kt = list()\n",
    "    for i in kata:\n",
    "        n_kt.append(i.lstrip())\n",
    "    return n_kt\n",
    "\n",
    "alamat = [\"data/_kata_.txt\", \"data/_replace_.txt\"]\n",
    "kata = rt.read_text(alamat[0])\n",
    "kata = removeS(kata)\n",
    "replace = rt.read_text(alamat[1])\n",
    "print(len(kata))\n",
    "\n",
    "alpa = 'abcdefghijklmnopqrstuvwxyz0123456789'\n",
    "for i in alpa:\n",
    "    x = i\n",
    "    i = \"k_\"+x+'_'\n",
    "    j = \"r_\"+x+'_'\n",
    "    vars()[i]=list()\n",
    "    vars()[j]=list()\n",
    "    #print(i)\n",
    "    #print(j)\n",
    "\n",
    "for ix,kt in enumerate(kata):\n",
    "    #print(kt[0])\n",
    "    #print(ix)\n",
    "    index = kata.index(kt)\n",
    "    vars()[\"k_\"+kt[0].lower()+'_'].append(kt)\n",
    "    vars()[\"r_\"+kt[0].lower()+'_'].append(replace[index])\n",
    "dict_=dict()\n",
    "for i in alpa:\n",
    "    x = i\n",
    "    i = \"k_\"+x+'_'\n",
    "    j = \"r_\"+x+'_'\n",
    "#     print(i)\n",
    "    d1 = dict()\n",
    "    for a, b in zip(vars()[i],vars()[j]):\n",
    "#         print(i)\n",
    "        d1.update({a:b})\n",
    "    dict_.update({i:d1})\n",
    "with open(\"data/kata.json\", \"w\") as f:\n",
    "    json.dump(dict_, f)"
   ]
  },
  {
   "cell_type": "code",
   "execution_count": null,
   "metadata": {},
   "outputs": [],
   "source": [
    "for i in alpa:\n",
    "    x = i\n",
    "    i = \"k_\"+x+'_'\n",
    "    j = \"r_\"+x+'_'\n",
    "    with open('data/kata/'+i+'.txt', 'w') as file:\n",
    "        for item in vars()[i]:\n",
    "            file.write(\"%s\\n\" % item)\n",
    "    with open('data/kata/'+j+'.txt', 'w') as file:\n",
    "        for item in vars()[j]:\n",
    "            file.write(\"%s\\n\" % item)"
   ]
  },
  {
   "cell_type": "code",
   "execution_count": null,
   "metadata": {},
   "outputs": [],
   "source": [
    "dict_['k_z_']"
   ]
  },
  {
   "cell_type": "code",
   "execution_count": 6,
   "metadata": {},
   "outputs": [],
   "source": [
    "# def save_gdiganti()\n",
    "#     with open(\"file.txt\", \"w\") as f:\n",
    "#         for s in score:\n",
    "#             f.write(str(s) +\"\\n\")"
   ]
  }
 ],
 "metadata": {
  "kernelspec": {
   "display_name": "Python 3",
   "language": "python",
   "name": "python3"
  },
  "language_info": {
   "codemirror_mode": {
    "name": "ipython",
    "version": 3
   },
   "file_extension": ".py",
   "mimetype": "text/x-python",
   "name": "python",
   "nbconvert_exporter": "python",
   "pygments_lexer": "ipython3",
   "version": "3.7.3"
  }
 },
 "nbformat": 4,
 "nbformat_minor": 2
}
