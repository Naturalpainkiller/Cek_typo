{
 "cells": [
  {
   "cell_type": "code",
   "execution_count": 2,
   "metadata": {},
   "outputs": [],
   "source": [
    "import pandas as pd"
   ]
  },
  {
   "cell_type": "code",
   "execution_count": 206,
   "metadata": {},
   "outputs": [
    {
     "name": "stdout",
     "output_type": "stream",
     "text": [
      "A_dictionary\n",
      "B_dictionary\n",
      "C_dictionary\n",
      "D_dictionary\n",
      "E_dictionary\n",
      "F_dictionary\n",
      "G_dictionary\n",
      "H_dictionary\n",
      "I_dictionary\n",
      "J_dictionary\n",
      "K_dictionary\n",
      "L_dictionary\n",
      "M_dictionary\n",
      "N_dictionary\n",
      "O_dictionary\n",
      "P_dictionary\n",
      "Q_dictionary\n",
      "R_dictionary\n",
      "S_dictionary\n",
      "T_dictionary\n",
      "U_dictionary\n",
      "V_dictionary\n",
      "W_dictionary\n",
      "X_dictionary\n",
      "Y_dictionary\n",
      "Z_dictionary\n"
     ]
    }
   ],
   "source": [
    "abjad = \"ABCDEFGHIJKLMNOPQRSTUVWXYZ\"\n",
    "dc = \"_dictionary\"\n",
    "dfr = \"_df\"\n",
    "\n",
    "#f = pd.read_excel(\"A-G.xlsx\", )\n",
    "writer = pd.ExcelWriter('data/kata_typo.xlsx', engine='xlsxwriter')\n",
    "for key, huruf in enumerate(abjad):\n",
    "    #print(huruf, key)\n",
    "    if key<7:\n",
    "        f = pd.read_excel(\"data/A-G.xlsx\", sheet_name = huruf)\n",
    "        f_1 = f['kata'].tolist()\n",
    "        f_2 = f['kode'].fillna(\"\").tolist()\n",
    "        vars()[huruf+dc] = {\"kata\":f_1, \"ganti\":f_2}\n",
    "        vars()[huruf+dfr] = pd.DataFrame.from_dict(vars()[huruf+dc])\n",
    "        vars()[huruf+dfr].to_excel(writer, sheet_name=huruf)\n",
    "        print(huruf+dc)\n",
    "    else:\n",
    "        f = pd.read_excel(\"data/H-Z.xlsx\", sheet_name = huruf)\n",
    "        f_1 = f['kata'].tolist()\n",
    "        f_2 = f['kode'].fillna(\"\").tolist()\n",
    "        vars()[huruf+dc] = {\"kata\":f_1, \"ganti\":f_2}\n",
    "        vars()[huruf+dfr] = pd.DataFrame.from_dict(vars()[huruf+dc])\n",
    "        vars()[huruf+dfr].to_excel(writer, sheet_name=huruf)\n",
    "        print(huruf+dc)\n",
    "#writer.save()"
   ]
  },
  {
   "cell_type": "code",
   "execution_count": null,
   "metadata": {},
   "outputs": [],
   "source": []
  },
  {
   "cell_type": "code",
   "execution_count": null,
   "metadata": {},
   "outputs": [],
   "source": []
  },
  {
   "cell_type": "code",
   "execution_count": 239,
   "metadata": {},
   "outputs": [
    {
     "name": "stdout",
     "output_type": "stream",
     "text": [
      "7004\n",
      "7004\n"
     ]
    }
   ],
   "source": [
    "\n",
    "def load_data():\n",
    "    abjad = \"ZABCDEFGHIJKLMNOPQRSTUVWXY\"\n",
    "    dc = \"_dictionary\"\n",
    "    dfr = \"_df\"\n",
    "\n",
    "    #f = pd.read_excel(\"A-G.xlsx\", )\n",
    "    kata = []\n",
    "    replace = []\n",
    "    for key, huruf in enumerate(abjad):\n",
    "        #print(huruf, key)\n",
    "        f = pd.read_excel(\"data/kata_typo.xlsx\", sheet_name = huruf)\n",
    "        f_1 = f['kata'].tolist()\n",
    "        f_2 = f['ganti'].tolist()\n",
    "        kata +=f_1\n",
    "        replace+=f_2\n",
    "\n",
    "    print(len(kata))\n",
    "    print(len(replace))\n",
    "    with open('data/_kata_.txt', 'w') as f:\n",
    "        for item in kata:\n",
    "            f.write(\"%s\\n\" % item)\n",
    "    with open('data/_replace_.txt', 'w') as f:\n",
    "        for item in replace:\n",
    "            f.write(\"%s\\n\" % item)\n",
    "load_data()"
   ]
  },
  {
   "cell_type": "code",
   "execution_count": null,
   "metadata": {},
   "outputs": [],
   "source": []
  },
  {
   "cell_type": "code",
   "execution_count": 243,
   "metadata": {},
   "outputs": [],
   "source": []
  },
  {
   "cell_type": "code",
   "execution_count": 246,
   "metadata": {},
   "outputs": [
    {
     "name": "stdout",
     "output_type": "stream",
     "text": [
      "7004\n",
      "7004\n"
     ]
    }
   ],
   "source": [
    "from jarowinkler import similarity as sim\n",
    "\n",
    "def getData(alamat):\n",
    "    lineList = list()\n",
    "    with open(alamat) as f:\n",
    "        for line in f:\n",
    "            lineList.append(line.rstrip('\\n'))\n",
    "    return lineList\n",
    "\n",
    "kata_ = getData('data/_kata_.txt')\n",
    "ganti_ = getData('data/_replace_.txt')\n",
    "\n",
    "print(len(ganti_))\n",
    "print(len(kata_))\n",
    "\n",
    "if len(ganti_)!= len(kata_):\n",
    "    load_data()\n",
    "    print(\"Load data ulang\")\n",
    "    f=open('data/_kata_.txt')\n",
    "    f=f.read()\n",
    "    kata_ = f.split()\n",
    "\n",
    "    f=open('data/_replace_.txt')\n",
    "    f=f.read()\n",
    "    ganti_ = f.split()\n",
    "    print(\"Load data berhasil\")\n",
    "    \n",
    "def simJaro(kata1,kata2):\n",
    "    return sim.get_jaro_distance(kata1, kata2, winkler=True, scaling=0.01)\n",
    "\n",
    "def norm_typo(komentar):\n",
    "    if type(komentar)!=list:\n",
    "        komentar_split = komentar.split()\n",
    "    for indx, kt in enumerate(komentar_split):\n",
    "        cek = True\n",
    "        if kt in kata_:\n",
    "            komentar_split[indx]= \"\" if ganti_[kata_.index(kt)] == 'nan' else ganti_[kata_.index(kt)]\n",
    "            print(\"<<<ada>>>\")\n",
    "            #continue\n",
    "        else:\n",
    "            list_kemiripan = []\n",
    "            for ix, sl in enumerate(kata_):\n",
    "                list_kemiripan.append(simJaro(kt, sl)) \n",
    "                if simJaro(kt, sl) >= .96:\n",
    "                    komentar_split[indx]=\"\" if ganti_[ix] == 'nan' else ganti_[ix]\n",
    "                    print(\"similarity-> \"+kt+\"|\"+sl+\" ->\", simJaro(kt, sl))\n",
    "                    cek = False\n",
    "                    break\n",
    "            if max(list_kemiripan)>=.88 and cek== True:\n",
    "                #print(\"similarity\",kt, str(max(list_kemiripan)))\n",
    "                print(\"similarity =>\",kt,\"|\",kata_[list_kemiripan.index(max(list_kemiripan))],\"=>\", str(max(list_kemiripan)))\n",
    "                komentar_split[indx]= \"\" if ganti_[list_kemiripan.index(max(list_kemiripan))] == 'nan' else ganti_[list_kemiripan.index(max(list_kemiripan))] #'Yes' if fruit == 'Apple' else 'No'\n",
    "            else:\n",
    "                if cek == True:\n",
    "                    print(\"similarity =>\",kt,\"|\",kata_[list_kemiripan.index(max(list_kemiripan))],\"=>\", str(max(list_kemiripan)))\n",
    "    return \" \".join(komentar_split)"
   ]
  },
  {
   "cell_type": "code",
   "execution_count": 247,
   "metadata": {},
   "outputs": [
    {
     "name": "stdout",
     "output_type": "stream",
     "text": [
      "similarity-> aakuuuuu|akuuuuu -> 0.96\n",
      "similarity-> mencintaiimu|mencintaiimu  -> 0.98\n",
      "similarity => sepenuh | pesen => 0.84\n",
      "similarity => hatiku | atiku => 0.94\n"
     ]
    },
    {
     "data": {
      "text/plain": [
       "'aku mencintaimu sepenuh hati'"
      ]
     },
     "execution_count": 247,
     "metadata": {},
     "output_type": "execute_result"
    }
   ],
   "source": [
    "norm_jaro(\"aakuuuuu mencintaiimu sepenuh hatiku\")"
   ]
  },
  {
   "cell_type": "code",
   "execution_count": null,
   "metadata": {},
   "outputs": [],
   "source": []
  },
  {
   "cell_type": "code",
   "execution_count": null,
   "metadata": {},
   "outputs": [],
   "source": []
  },
  {
   "cell_type": "code",
   "execution_count": null,
   "metadata": {},
   "outputs": [],
   "source": [
    "\n"
   ]
  }
 ],
 "metadata": {
  "kernelspec": {
   "display_name": "Python 3",
   "language": "python",
   "name": "python3"
  },
  "language_info": {
   "codemirror_mode": {
    "name": "ipython",
    "version": 3
   },
   "file_extension": ".py",
   "mimetype": "text/x-python",
   "name": "python",
   "nbconvert_exporter": "python",
   "pygments_lexer": "ipython3",
   "version": "3.7.2"
  }
 },
 "nbformat": 4,
 "nbformat_minor": 2
}
