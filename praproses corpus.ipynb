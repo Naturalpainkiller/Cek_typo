{
 "cells": [
  {
   "cell_type": "code",
   "execution_count": 3,
   "metadata": {},
   "outputs": [
    {
     "data": {
      "text/plain": [
       "30294"
      ]
     },
     "execution_count": 3,
     "metadata": {},
     "output_type": "execute_result"
    }
   ],
   "source": [
    "from Modul import read_text as rt\n",
    "\n",
    "def removeS(kata):\n",
    "    n_kt = list()\n",
    "    for i in kata:\n",
    "        n_kt.append(i.lstrip())\n",
    "    return n_kt\n",
    "\n",
    "alamat = [\"data/_kata_.txt\", \"data/_replace_.txt\"]\n",
    "kata = rt.read_text(alamat[0])\n",
    "kata = removeS(kata)\n",
    "replace = rt.read_text(alamat[1])\n",
    "len(kata)"
   ]
  },
  {
   "cell_type": "code",
   "execution_count": 4,
   "metadata": {},
   "outputs": [],
   "source": [
    "alpa = 'abcdefghijklmnopqrstuvwxyz0123456789'\n",
    "for i in alpa:\n",
    "    x = i\n",
    "    i = \"k_\"+x+'_'\n",
    "    j = \"r_\"+x+'_'\n",
    "    vars()[i]=list()\n",
    "    vars()[j]=list()\n",
    "    #print(i)\n",
    "    #print(j)\n",
    "\n",
    "for ix,kt in enumerate(kata):\n",
    "    #print(kt[0])\n",
    "    #print(ix)\n",
    "    index = kata.index(kt)\n",
    "    vars()[\"k_\"+kt[0].lower()+'_'].append(kt)\n",
    "    vars()[\"r_\"+kt[0].lower()+'_'].append(replace[index])\n",
    "\n",
    "for i in alpa:\n",
    "    x = i\n",
    "    i = \"k_\"+x+'_'\n",
    "    j = \"r_\"+x+'_'\n",
    "    with open('data/kata/'+i+'.txt', 'w') as file:\n",
    "        for item in vars()[i]:\n",
    "            file.write(\"%s\\n\" % item)\n",
    "    with open('data/kata/'+j+'.txt', 'w') as file:\n",
    "        for item in vars()[j]:\n",
    "            file.write(\"%s\\n\" % item)\n"
   ]
  }
 ],
 "metadata": {
  "kernelspec": {
   "display_name": "Python 3",
   "language": "python",
   "name": "python3"
  },
  "language_info": {
   "codemirror_mode": {
    "name": "ipython",
    "version": 3
   },
   "file_extension": ".py",
   "mimetype": "text/x-python",
   "name": "python",
   "nbconvert_exporter": "python",
   "pygments_lexer": "ipython3",
   "version": "3.7.3"
  }
 },
 "nbformat": 4,
 "nbformat_minor": 2
}
